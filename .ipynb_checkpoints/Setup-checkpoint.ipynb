{
 "cells": [
  {
   "cell_type": "code",
   "execution_count": 1,
   "metadata": {},
   "outputs": [
    {
     "name": "stdout",
     "output_type": "stream",
     "text": [
      "Collecting flask\n",
      "  Downloading https://files.pythonhosted.org/packages/9a/74/670ae9737d14114753b8c8fdf2e8bd212a05d3b361ab15b44937dfd40985/Flask-1.0.3-py2.py3-none-any.whl (92kB)\n",
      "Collecting flask-jsonpify\n",
      "  Downloading https://files.pythonhosted.org/packages/60/0f/c389dea3988bffbe32c1a667989914b1cc0bce31b338c8da844d5e42b503/Flask-Jsonpify-1.5.0.tar.gz\n",
      "Collecting flask-sqlalchemy\n",
      "  Downloading https://files.pythonhosted.org/packages/08/ca/582442cad71504a1514a2f053006c8bb128844133d6076a4df17117545fa/Flask_SQLAlchemy-2.4.0-py2.py3-none-any.whl\n",
      "Collecting flask-restful\n",
      "  Downloading https://files.pythonhosted.org/packages/17/44/6e490150ee443ca81d5f88b61bb4bbb133d44d75b0b716ebe92489508da4/Flask_RESTful-0.3.7-py2.py3-none-any.whl\n",
      "Collecting itsdangerous>=0.24 (from flask)\n",
      "  Downloading https://files.pythonhosted.org/packages/76/ae/44b03b253d6fade317f32c24d100b3b35c2239807046a4c953c7b89fa49e/itsdangerous-1.1.0-py2.py3-none-any.whl\n",
      "Collecting click>=5.1 (from flask)\n",
      "  Downloading https://files.pythonhosted.org/packages/fa/37/45185cb5abbc30d7257104c434fe0b07e5a195a6847506c074527aa599ec/Click-7.0-py2.py3-none-any.whl (81kB)\n",
      "Collecting Werkzeug>=0.14 (from flask)\n",
      "  Downloading https://files.pythonhosted.org/packages/9f/57/92a497e38161ce40606c27a86759c6b92dd34fcdb33f64171ec559257c02/Werkzeug-0.15.4-py2.py3-none-any.whl (327kB)\n",
      "Requirement already satisfied: Jinja2>=2.10 in e:\\git\\python\\notebook_py3_cola\\lib\\site-packages (from flask) (2.10.1)\n",
      "Collecting SQLAlchemy>=0.8.0 (from flask-sqlalchemy)\n",
      "  Downloading https://files.pythonhosted.org/packages/ba/37/094ecf4b218f20572986dc90fe8c6aed32e2a711bcd02ce8ef251fde2011/SQLAlchemy-1.3.4.tar.gz (5.9MB)\n",
      "Requirement already satisfied: pytz in e:\\git\\python\\notebook_py3_cola\\lib\\site-packages (from flask-restful) (2019.1)\n",
      "Collecting aniso8601>=0.82 (from flask-restful)\n",
      "  Downloading https://files.pythonhosted.org/packages/85/58/1e804d6d53435b1b2241036056360575640b69a332e7ead086a04bd5ad95/aniso8601-6.0.0-py2.py3-none-any.whl (41kB)\n",
      "Requirement already satisfied: six>=1.3.0 in e:\\git\\python\\notebook_py3_cola\\lib\\site-packages (from flask-restful) (1.12.0)\n",
      "Requirement already satisfied: MarkupSafe>=0.23 in e:\\git\\python\\notebook_py3_cola\\lib\\site-packages (from Jinja2>=2.10->flask) (1.1.1)\n",
      "Building wheels for collected packages: flask-jsonpify, SQLAlchemy\n",
      "  Building wheel for flask-jsonpify (setup.py): started\n",
      "  Building wheel for flask-jsonpify (setup.py): finished with status 'done'\n",
      "  Stored in directory: C:\\Users\\soiqu\\AppData\\Local\\pip\\Cache\\wheels\\ea\\a9\\40\\ac47ad604861c1a40499042d30c22cdb7d1fa1abf426597788\n",
      "  Building wheel for SQLAlchemy (setup.py): started\n",
      "  Building wheel for SQLAlchemy (setup.py): finished with status 'done'\n",
      "  Stored in directory: C:\\Users\\soiqu\\AppData\\Local\\pip\\Cache\\wheels\\cc\\b2\\b8\\54b71f2c27738fc6f9d1b68b6cf653c28a5fa0a9846d02be32\n",
      "Successfully built flask-jsonpify SQLAlchemy\n",
      "Installing collected packages: itsdangerous, click, Werkzeug, flask, flask-jsonpify, SQLAlchemy, flask-sqlalchemy, aniso8601, flask-restful\n",
      "Successfully installed SQLAlchemy-1.3.4 Werkzeug-0.15.4 aniso8601-6.0.0 click-7.0 flask-1.0.3 flask-jsonpify-1.5.0 flask-restful-0.3.7 flask-sqlalchemy-2.4.0 itsdangerous-1.1.0\n"
     ]
    }
   ],
   "source": [
    "!pip install flask flask-jsonpify flask-sqlalchemy flask-restful"
   ]
  },
  {
   "cell_type": "code",
   "execution_count": 2,
   "metadata": {},
   "outputs": [
    {
     "name": "stdout",
     "output_type": "stream",
     "text": [
      "aniso8601==6.0.0\n",
      "attrs==19.1.0\n",
      "backcall==0.1.0\n",
      "bleach==3.1.0\n",
      "Click==7.0\n",
      "colorama==0.4.1\n",
      "decorator==4.4.0\n",
      "defusedxml==0.6.0\n",
      "Django==2.2.2\n",
      "django-filter==2.1.0\n",
      "djangorestframework==3.9.4\n",
      "entrypoints==0.3\n",
      "enum34==1.1.6\n",
      "Flask==1.0.3\n",
      "Flask-Jsonpify==1.5.0\n",
      "Flask-RESTful==0.3.7\n",
      "Flask-SQLAlchemy==2.4.0\n",
      "ipykernel==5.1.1\n",
      "ipython==7.5.0\n",
      "ipython-genutils==0.2.0\n",
      "itsdangerous==1.1.0\n",
      "jedi==0.13.3\n",
      "Jinja2==2.10.1\n",
      "jsonschema==3.0.1\n",
      "jupyter-client==5.2.4\n",
      "jupyter-core==4.4.0\n",
      "jupyter-http-over-ws==0.0.6\n",
      "Markdown==3.1.1\n",
      "MarkupSafe==1.1.1\n",
      "mistune==0.8.4\n",
      "nbconvert==5.5.0\n",
      "nbformat==4.4.0\n",
      "notebook==5.7.8\n",
      "pandocfilters==1.4.2\n",
      "parso==0.4.0\n",
      "pickleshare==0.7.5\n",
      "prometheus-client==0.6.0\n",
      "prompt-toolkit==2.0.9\n",
      "Pygments==2.4.2\n",
      "pyrsistent==0.15.2\n",
      "python-dateutil==2.8.0\n",
      "pytz==2019.1\n",
      "pywinpty==0.5.5\n",
      "pyzmq==18.0.1\n",
      "Send2Trash==1.5.0\n",
      "six==1.12.0\n",
      "SQLAlchemy==1.3.4\n",
      "sqlparse==0.3.0\n",
      "terminado==0.8.2\n",
      "testpath==0.4.2\n",
      "tornado==6.0.2\n",
      "traitlets==4.3.2\n",
      "wcwidth==0.1.7\n",
      "webencodings==0.5.1\n",
      "Werkzeug==0.15.4\n"
     ]
    }
   ],
   "source": [
    "!pip freeze"
   ]
  },
  {
   "cell_type": "code",
   "execution_count": 6,
   "metadata": {},
   "outputs": [],
   "source": [
    "from flask import Flask, request\n",
    "from flask_restful import Resource, Api\n",
    "from sqlalchemy import create_engine\n",
    "from json import dumps\n",
    "#from flask.ext.jsonpify import jsonify\n",
    "\n",
    "app = Flask(__name__)\n",
    "api = Api(app)\n",
    "\n",
    "db_connect = create_engine('sqlite:///chinook.db')\n",
    "conn = db_connect.connect() #kết nối với cơ sở dữ liệu"
   ]
  },
  {
   "cell_type": "code",
   "execution_count": 11,
   "metadata": {},
   "outputs": [],
   "source": [
    "def get1():\n",
    "    query = conn.execute(\"select * from employees\") # Dòng này thực hiện truy vấn và trả về json\n",
    "    return {'employees': [i[0] for i in query.cursor.fetchall()]} # Tìm và thêm cột đầu tiên là Employee ID"
   ]
  },
  {
   "cell_type": "code",
   "execution_count": 12,
   "metadata": {},
   "outputs": [
    {
     "data": {
      "text/plain": [
       "{'employees': [1, 2, 3, 4, 5, 6, 7, 8]}"
      ]
     },
     "execution_count": 12,
     "metadata": {},
     "output_type": "execute_result"
    }
   ],
   "source": [
    "get1()"
   ]
  },
  {
   "cell_type": "markdown",
   "metadata": {},
   "source": [
    "http://127.0.0.1:5002/employees/8\n",
    "\n",
    "http://127.0.0.1:5002/tracks\n",
    "\n",
    "https://www.codementor.io/sagaragarwal94/building-a-basic-restful-api-in-python-58k02xsiq\n",
    "\n",
    "> python run.py"
   ]
  }
 ],
 "metadata": {
  "kernelspec": {
   "display_name": "Python 3",
   "language": "python",
   "name": "python3"
  },
  "language_info": {
   "codemirror_mode": {
    "name": "ipython",
    "version": 3
   },
   "file_extension": ".py",
   "mimetype": "text/x-python",
   "name": "python",
   "nbconvert_exporter": "python",
   "pygments_lexer": "ipython3",
   "version": "3.7.3"
  }
 },
 "nbformat": 4,
 "nbformat_minor": 2
}
