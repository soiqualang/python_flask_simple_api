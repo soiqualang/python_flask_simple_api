{
 "cells": [
  {
   "cell_type": "markdown",
   "metadata": {},
   "source": [
    "http://localhost/sqlite/t2.php?sqlite=&username=&db=E:\\git\\python\\flask_api\\chinook.db\n",
    "\n",
    "https://github.com/soiqualang/colab/blob/master/SQLite_3.ipynb\n",
    "\n",
    "http://www.sqlitetutorial.net/sqlite-sample-database/\n",
    "\n",
    "https://code.tutsplus.com/vi/tutorials/building-restful-apis-with-flask-diy--cms-26625\n",
    "\n",
    "https://techtalk.vn/xay-dung-mot-restful-api-don-gian-voi-python-va-flask.html"
   ]
  },
  {
   "cell_type": "code",
   "execution_count": 2,
   "metadata": {},
   "outputs": [],
   "source": [
    "import sqlite3"
   ]
  },
  {
   "cell_type": "code",
   "execution_count": 3,
   "metadata": {},
   "outputs": [],
   "source": [
    "conn=sqlite3.connect('chinook.db')"
   ]
  },
  {
   "cell_type": "code",
   "execution_count": 4,
   "metadata": {},
   "outputs": [],
   "source": [
    "#make funtion by soiqualang\n",
    "\n",
    "def insert_table(table,field,value,conn):\n",
    "    with conn:\n",
    "        cur = conn.cursor()\n",
    "        strfield=\"\"\n",
    "        strvalue=\"\"\n",
    "        for i in range(0,len(field)):\n",
    "            strfield+=field[i]+\", \"\n",
    "            strvalue+=\"'\"+value[i]+\"', \"\n",
    "        strfield+=field[i]\n",
    "        strvalue+=\"'\"+value[i]+\"'\"\n",
    "        sql_add_news=\"INSERT INTO \"+table+\"(\"+strfield+\") VALUES (\"+strvalue+\")\"\n",
    "        #print(sql_add_news)\n",
    "        cur.execute(sql_add_news)\n",
    "\n",
    "def dict_factory(cursor, row):\n",
    "    d = {}\n",
    "    for idx, col in enumerate(cursor.description):\n",
    "        d[col[0]] = row[idx]\n",
    "    return d\n",
    "        \n",
    "def getElement(tbl_table,element,where,id,conn):\n",
    "    with conn:\n",
    "        cur = conn.cursor()\n",
    "        id=str(id)\n",
    "        #sql='SELECT SQLITE_VERSION()'\n",
    "        sql=\"Select \"+element+\" from \"+tbl_table+\" where \"+where+\"='\"+id+\"'\"\n",
    "        #print(sql)\n",
    "        cur.execute(sql)\n",
    "        data = cur.fetchone()\n",
    "        #data=cur.fetchall()\n",
    "        return data[element]\n",
    "\n",
    "def table_to_array1(table,conn):\n",
    "    with conn:\n",
    "        conn.row_factory = dict_factory\n",
    "        cur = conn.cursor()\n",
    "        sql=\"SELECT * from \"+table\n",
    "        #print(sql)\n",
    "        cur.execute(sql)\n",
    "        rows = cur.fetchall()        \n",
    "        '''\n",
    "        for row in rows:\n",
    "            print (\"%s %s %s\" % (row[\"id\"], row[\"ques\"], row[\"ans\"]))\n",
    "        '''\n",
    "        return rows"
   ]
  },
  {
   "cell_type": "code",
   "execution_count": 5,
   "metadata": {},
   "outputs": [
    {
     "name": "stdout",
     "output_type": "stream",
     "text": [
      "Adams Andrew General Manager\n",
      "Edwards Nancy Sales Manager\n",
      "Peacock Jane Sales Support Agent\n",
      "Park Margaret Sales Support Agent\n",
      "Johnson Steve Sales Support Agent\n",
      "Mitchell Michael IT Manager\n",
      "King Robert IT Staff\n",
      "Callahan Laura IT Staff\n"
     ]
    }
   ],
   "source": [
    "rows=table_to_array1('employees',conn)\n",
    "#print(rows)\n",
    "\n",
    "for row in rows:\n",
    "    print(row['LastName'],row['FirstName'],row['Title'])"
   ]
  },
  {
   "cell_type": "code",
   "execution_count": null,
   "metadata": {},
   "outputs": [],
   "source": []
  }
 ],
 "metadata": {
  "kernelspec": {
   "display_name": "Python 3",
   "language": "python",
   "name": "python3"
  },
  "language_info": {
   "codemirror_mode": {
    "name": "ipython",
    "version": 3
   },
   "file_extension": ".py",
   "mimetype": "text/x-python",
   "name": "python",
   "nbconvert_exporter": "python",
   "pygments_lexer": "ipython3",
   "version": "3.7.3"
  }
 },
 "nbformat": 4,
 "nbformat_minor": 2
}
